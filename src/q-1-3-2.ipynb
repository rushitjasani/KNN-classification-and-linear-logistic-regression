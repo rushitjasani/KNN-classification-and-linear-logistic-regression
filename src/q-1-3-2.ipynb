{
 "cells": [
  {
   "cell_type": "markdown",
   "metadata": {},
   "source": [
    "### Q-1-3-2\n",
    "\n",
    "Compare the performance of Mean square error loss function vs Mean Absolute error function vs Mean absolute percentage error function and explain the reasons for the observed behaviour."
   ]
  },
  {
   "cell_type": "code",
   "execution_count": 1,
   "metadata": {},
   "outputs": [],
   "source": [
    "import pandas as pd\n",
    "import numpy as np\n",
    "from sklearn import preprocessing\n",
    "from sklearn.model_selection import train_test_split\n",
    "from sklearn.metrics import r2_score"
   ]
  },
  {
   "cell_type": "code",
   "execution_count": 2,
   "metadata": {},
   "outputs": [],
   "source": [
    "df = pd.read_csv(\"../input_data/AdmissionDataset/data.csv\")\n",
    "X  = df.drop(['Serial No.', 'Chance of Admit '],axis='columns')\n",
    "Y  = df['Chance of Admit ']\n",
    "X = (X - X.mean())/X.std()"
   ]
  },
  {
   "cell_type": "code",
   "execution_count": 3,
   "metadata": {},
   "outputs": [],
   "source": [
    "X_train, X_test, Y_train, Y_test = train_test_split(X, Y, test_size=0.2)\n",
    "\n",
    "X_train1 = X_train.reset_index(drop=True)\n",
    "Y_train1 = Y_train.reset_index(drop=True)\n",
    "\n",
    "ones = pd.DataFrame(1, index=np.arange(X_train1.shape[0]), columns=[\"a\"])\n",
    "\n",
    "X_train1 = pd.concat( [ones, X_train1], axis='columns')\n",
    "\n",
    "X_train1 = np.array(X_train1)\n",
    "Y_train1 = np.array(Y_train1).reshape((X_train1.shape[0],1))"
   ]
  },
  {
   "cell_type": "code",
   "execution_count": 4,
   "metadata": {},
   "outputs": [],
   "source": [
    "theta = np.zeros([1,8])\n",
    "alpha = 0.01\n",
    "iters = 1000\n",
    "\n",
    "def grad_desc(X,y,theta,iters,alpha):\n",
    "    for i in range(iters):\n",
    "        theta = theta - (alpha/len(X)) * np.sum(X * ( np.matmul(X , theta.T) - y), axis=0)\n",
    "    return theta\n",
    "\n",
    "g = grad_desc(X_train1,Y_train1,theta,iters,alpha)"
   ]
  },
  {
   "cell_type": "code",
   "execution_count": 5,
   "metadata": {},
   "outputs": [],
   "source": [
    "thetalist=g[0]\n",
    "\n",
    "y_pred_mymodel=[]\n",
    "for index,row in X_test.iterrows():\n",
    "    row=list(row)\n",
    "    y1=0\n",
    "    for i in range(1,8):\n",
    "        y1=y1+thetalist[i]*row[i-1]\n",
    "    y1=y1+thetalist[0]\n",
    "    y_pred_mymodel.append(y1)"
   ]
  },
  {
   "cell_type": "raw",
   "metadata": {},
   "source": [
    "y_pred_mymodel"
   ]
  },
  {
   "cell_type": "code",
   "execution_count": 6,
   "metadata": {},
   "outputs": [
    {
     "data": {
      "text/plain": [
       "0.8052795883442476"
      ]
     },
     "execution_count": 6,
     "metadata": {},
     "output_type": "execute_result"
    }
   ],
   "source": [
    "r2_score(list(Y_test),y_pred_mymodel)"
   ]
  },
  {
   "cell_type": "code",
   "execution_count": null,
   "metadata": {},
   "outputs": [],
   "source": []
  },
  {
   "cell_type": "code",
   "execution_count": 7,
   "metadata": {},
   "outputs": [],
   "source": [
    "from sklearn.linear_model import LinearRegression\n",
    "regressor=LinearRegression()\n",
    "regressor.fit(X_train,Y_train)\n",
    "y_pred_sys = regressor.predict(X_test) "
   ]
  },
  {
   "cell_type": "code",
   "execution_count": 8,
   "metadata": {},
   "outputs": [
    {
     "name": "stdout",
     "output_type": "stream",
     "text": [
      "[ 0.02193445  0.01887922  0.00866465 -0.00035788  0.01394631  0.07087953\n",
      "  0.01108593]\n",
      "[0.72236211 0.02783269 0.01866485 0.00915077 0.00119709 0.01425688\n",
      " 0.06407166 0.01004404]\n",
      "0.7224886415189875\n"
     ]
    }
   ],
   "source": [
    "print(regressor.coef_)\n",
    "print(thetalist)\n",
    "print(regressor.intercept_)"
   ]
  },
  {
   "cell_type": "markdown",
   "metadata": {},
   "source": [
    "functions to calculate all 3 types of errors."
   ]
  },
  {
   "cell_type": "code",
   "execution_count": 9,
   "metadata": {},
   "outputs": [],
   "source": [
    "def mean_absolute_percentage_error(y_test, y_pred):\n",
    "    return 100.0 * np.mean( np.abs(y_test - y_pred) / y_test )\n",
    "\n",
    "def mean_absolute_error(y_test, y_pred):\n",
    "    return np.mean( np.abs(y_test - y_pred))\n",
    "\n",
    "def mean_squared_error( y_test, y_pred ):\n",
    "    return np.mean((y_test - y_pred)**2 )"
   ]
  },
  {
   "cell_type": "code",
   "execution_count": 10,
   "metadata": {},
   "outputs": [
    {
     "name": "stdout",
     "output_type": "stream",
     "text": [
      "0.04415606480839424\n",
      "0.00401383257097123\n",
      "7.057696178598463\n"
     ]
    }
   ],
   "source": [
    "print mean_absolute_error(Y_test,y_pred_sys)\n",
    "print mean_squared_error(Y_test,y_pred_sys)\n",
    "print mean_absolute_percentage_error(Y_test,y_pred_sys)"
   ]
  },
  {
   "cell_type": "code",
   "execution_count": 11,
   "metadata": {},
   "outputs": [
    {
     "name": "stdout",
     "output_type": "stream",
     "text": [
      "0.043964719709936775\n",
      "0.004016769578217243\n",
      "7.0380418229434385\n"
     ]
    }
   ],
   "source": [
    "print mean_absolute_error(Y_test,y_pred_mymodel)\n",
    "print mean_squared_error(Y_test,y_pred_mymodel)\n",
    "print mean_absolute_percentage_error(Y_test,y_pred_mymodel)"
   ]
  },
  {
   "cell_type": "markdown",
   "metadata": {},
   "source": [
    "### Observations\n",
    "\n",
    "* MSE has the benefit of penalizing large errors more so can be more appropriate in some cases, for example, if being off by 10 is more than twice as bad as being off by 5. But if being off by 10 is just twice as bad as being off by 5, then MAE is more appropriate.MAE gives less weight to outliers, which is not sensitive to outliers.\n",
    "\n",
    "* Mean Absolute Percentage Error is Similar to MAE, but normalized by true observation. Downside is when true obs is zero, this metric will be problematic.\n",
    "\n"
   ]
  },
  {
   "cell_type": "code",
   "execution_count": null,
   "metadata": {},
   "outputs": [],
   "source": []
  }
 ],
 "metadata": {
  "kernelspec": {
   "display_name": "Python 2",
   "language": "python",
   "name": "python2"
  },
  "language_info": {
   "codemirror_mode": {
    "name": "ipython",
    "version": 2
   },
   "file_extension": ".py",
   "mimetype": "text/x-python",
   "name": "python",
   "nbconvert_exporter": "python",
   "pygments_lexer": "ipython2",
   "version": "2.7.15rc1"
  }
 },
 "nbformat": 4,
 "nbformat_minor": 2
}
