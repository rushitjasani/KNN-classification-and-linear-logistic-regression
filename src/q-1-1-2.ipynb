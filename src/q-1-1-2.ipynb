{
 "cells": [
  {
   "cell_type": "markdown",
   "metadata": {},
   "source": [
    "## Q-1-1-2\n",
    "\n",
    "Use different distance measures as applicable. Plot graph to report accuracy with change in value of K. Also suggest possible reason for better performance."
   ]
  },
  {
   "cell_type": "code",
   "execution_count": 1,
   "metadata": {},
   "outputs": [],
   "source": [
    "import pandas as pd\n",
    "import numpy as np\n",
    "from sklearn import preprocessing\n",
    "from sklearn.model_selection import train_test_split\n",
    "from sklearn.metrics import classification_report, confusion_matrix, accuracy_score\n",
    "from sklearn.neighbors import KNeighborsClassifier\n",
    "import operator\n",
    "import sys\n",
    "\n",
    "from pylab import *\n",
    "import matplotlib\n",
    "import matplotlib.pyplot as plt"
   ]
  },
  {
   "cell_type": "code",
   "execution_count": 2,
   "metadata": {},
   "outputs": [],
   "source": [
    "filename = sys.argv[1]\n",
    "# filename = \"robot2\"\n",
    "def loadfile(file_name):\n",
    "    if file_name==\"iris\":\n",
    "        filename = '../input_data/Iris/Iris.csv'\n",
    "        df = pd.read_csv(filename, names = [\"a\", \"b\", \"c\", \"d\", \"Y\"])\n",
    "    elif file_name==\"robot1\":\n",
    "        filename = '../input_data/RobotDataset/Robot1'\n",
    "        df = pd.read_csv(filename, delim_whitespace=True, names = [\"Y\", \"a\", \"b\", \"c\", \"d\", \"e\", \"f\", \"g\"])\n",
    "        df = df.drop(['g'],axis=1)\n",
    "    else:\n",
    "        filename = '../input_data/RobotDataset/Robot2'\n",
    "        df = pd.read_csv(filename, delim_whitespace=True, names = [\"Y\", \"a\", \"b\", \"c\", \"d\", \"e\", \"f\", \"g\"])\n",
    "        df = df.drop(['g'],axis=1)\n",
    "    return df\n",
    "\n",
    "df = loadfile(filename)"
   ]
  },
  {
   "cell_type": "code",
   "execution_count": 3,
   "metadata": {},
   "outputs": [],
   "source": [
    "Y = df.Y\n",
    "X = df.drop(['Y'],axis='columns')\n",
    "\n",
    "if filename != \"iris\":\n",
    "    X = pd.DataFrame( preprocessing.normalize(X), columns = [ \"a\", \"b\", \"c\", \"d\", \"e\", \"f\" ]  )\n",
    "\n",
    "X_train, X_test, Y_train, Y_test = train_test_split(X, Y,test_size=0.2)\n",
    "labels = Y.unique()\n",
    "df1 = pd.concat([X_train, Y_train],axis='columns').reset_index(drop=True)"
   ]
  },
  {
   "cell_type": "raw",
   "metadata": {},
   "source": [
    "neigh = KNeighborsClassifier(n_neighbors=5)\n",
    "neigh.fit(X_train, Y_train)\n",
    "Y_predict = neigh.predict(X_test)\n",
    "print confusion_matrix(Y_test,Y_predict)\n",
    "print classification_report(Y_test,Y_predict)\n",
    "print accuracy_score(Y_test, Y_predict)"
   ]
  },
  {
   "cell_type": "raw",
   "metadata": {},
   "source": [
    "%matplotlib inline\n",
    "\n",
    "ax = df[df['Y'] == \"Iris-setosa\" ].plot.scatter(x = 'd', y='c', c='blue', label='Iris-setosa')\n",
    "ax = df[df['Y'] == \"Iris-virginica\"].plot.scatter(x = 'd', y='c', c='orange', label='Iris-virginica', ax=ax)\n",
    "ax = df[df['Y'] == \"Iris-versicolor\"].plot.scatter(x = 'd', y='c', c='red', label='Iris-versicolor', ax=ax)\n",
    "ax"
   ]
  },
  {
   "cell_type": "code",
   "execution_count": 4,
   "metadata": {},
   "outputs": [],
   "source": [
    "def distance_measure(x, y, flag):\n",
    "    if flag == 1:\n",
    "        return np.sqrt(np.sum((x - y) ** 2))\n",
    "    elif flag == 2:\n",
    "        return 1 - ( np.dot(x,y) / ( np.sqrt( np.dot(x,x) ) * np.sqrt( np.dot(y,y) ) ) )\n",
    "    else:\n",
    "        return np.sum(abs(x - y))"
   ]
  },
  {
   "cell_type": "code",
   "execution_count": 5,
   "metadata": {},
   "outputs": [],
   "source": [
    "def predict( df, k=5, flag = 0 ):\n",
    "    Y_predict = []\n",
    "    for index, row in X_test.iterrows():\n",
    "        distance = {}\n",
    "        labeldict = {i:0 for i in labels}\n",
    "        for index1, row1 in df1.iterrows():\n",
    "            distance[index1] = distance_measure(row,row1[:-1],flag)\n",
    "        \n",
    "        ordered_dict = sorted(distance.items(), key=operator.itemgetter(1))\n",
    "        \n",
    "        count = k\n",
    "        for index,_ in ordered_dict:\n",
    "            count-=1\n",
    "            labeldict[df1.iloc[index].Y]+=1\n",
    "            if count==0:\n",
    "                break\n",
    "                \n",
    "        ans_label=0\n",
    "        ans_count=-1\n",
    "        \n",
    "        for label,cnt in labeldict.iteritems():\n",
    "            if cnt>=ans_count:\n",
    "                ans_label=label\n",
    "                ans_count=cnt\n",
    "        Y_predict.append(ans_label)\n",
    "    return Y_predict"
   ]
  },
  {
   "cell_type": "code",
   "execution_count": 6,
   "metadata": {},
   "outputs": [],
   "source": [
    "x_axis = [i for i in xrange(1,12)]"
   ]
  },
  {
   "cell_type": "code",
   "execution_count": 7,
   "metadata": {},
   "outputs": [],
   "source": [
    "predict_euclid = list()\n",
    "for i in x_axis:\n",
    "    predict_euclid.append(accuracy_score( Y_test, predict( X_test, i, 1)))"
   ]
  },
  {
   "cell_type": "code",
   "execution_count": 8,
   "metadata": {},
   "outputs": [],
   "source": [
    "predict_cosine = list()\n",
    "for i in x_axis:\n",
    "    predict_cosine.append(accuracy_score( Y_test, predict( X_test, i, 2)))"
   ]
  },
  {
   "cell_type": "code",
   "execution_count": 9,
   "metadata": {},
   "outputs": [],
   "source": [
    "predict_manhattan = list()\n",
    "for i in x_axis:\n",
    "    predict_manhattan.append(accuracy_score( Y_test, predict( X_test, i, 3)))"
   ]
  },
  {
   "cell_type": "code",
   "execution_count": 10,
   "metadata": {},
   "outputs": [
    {
     "data": {
      "text/plain": [
       "Text(0.5,1,'accuracy with change in value of K')"
      ]
     },
     "execution_count": 10,
     "metadata": {},
     "output_type": "execute_result"
    },
    {
     "data": {
      "image/png": "[encoded data removed]",
      "text/plain": [
       "<Figure size 432x288 with 1 Axes>"
      ]
     },
     "metadata": {
      "needs_background": "light"
     },
     "output_type": "display_data"
    }
   ],
   "source": [
    "fig, axis = plt.subplots()\n",
    "\n",
    "axis.plot( x_axis, predict_euclid, label=\"euclid_dist\", color = 'red' )\n",
    "axis.plot( x_axis, predict_cosine, label=\"cosine_dist\", color = 'green' )\n",
    "axis.plot( x_axis, predict_manhattan, label=\"manhattan_dist\", color = 'blue' )\n",
    "\n",
    "axis.legend()\n",
    "axis.set_xlabel(\"K\")\n",
    "axis.set_ylabel(\"accuracy_score\")\n",
    "axis.set_title(\"accuracy with change in value of K\")\n"
   ]
  },
  {
   "cell_type": "markdown",
   "metadata": {},
   "source": []
  }
 ],
 "metadata": {
  "kernelspec": {
   "display_name": "Python 2",
   "language": "python",
   "name": "python2"
  },
  "language_info": {
   "codemirror_mode": {
    "name": "ipython",
    "version": 2
   },
   "file_extension": ".py",
   "mimetype": "text/x-python",
   "name": "python",
   "nbconvert_exporter": "python",
   "pygments_lexer": "ipython2",
   "version": "2.7.15+"
  }
 },
 "nbformat": 4,
 "nbformat_minor": 2
}
