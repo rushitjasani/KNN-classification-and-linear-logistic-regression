{
 "cells": [
  {
   "cell_type": "markdown",
   "metadata": {},
   "source": [
    "### Q-1-3-1\n",
    "\n",
    "Implement a model using linear regression to predict the probablity of getting the admit."
   ]
  },
  {
   "cell_type": "code",
   "execution_count": 11,
   "metadata": {},
   "outputs": [],
   "source": [
    "import pandas as pd\n",
    "import numpy as np\n",
    "from sklearn import preprocessing\n",
    "from sklearn.model_selection import train_test_split\n",
    "from sklearn.metrics import r2_score\n",
    "import sys"
   ]
  },
  {
   "cell_type": "markdown",
   "metadata": {},
   "source": [
    "loading data from csv to dataframe"
   ]
  },
  {
   "cell_type": "code",
   "execution_count": 12,
   "metadata": {},
   "outputs": [],
   "source": [
    "df = pd.read_csv(\"../input_data/AdmissionDataset/data.csv\")\n",
    "X  = df.drop(['Serial No.', 'Chance of Admit '],axis='columns')\n",
    "Y  = df['Chance of Admit ']\n",
    "X = (X - X.mean())/X.std()\n",
    "# X  = pd.DataFrame( preprocessing.scale(X), columns = [ i for i in X ])\n",
    "# X  = pd.concat([  X, df['Research'] ], axis='columns')\n",
    "# X.head()"
   ]
  },
  {
   "cell_type": "markdown",
   "metadata": {},
   "source": [
    "append column of ONES at 0th index. "
   ]
  },
  {
   "cell_type": "code",
   "execution_count": 13,
   "metadata": {},
   "outputs": [],
   "source": [
    "X_train, X_test, Y_train, Y_test = train_test_split(X, Y, test_size=0.2)\n",
    "\n",
    "X_train1 = X_train.reset_index(drop=True)\n",
    "Y_train1 = Y_train.reset_index(drop=True)\n",
    "\n",
    "ones = pd.DataFrame(1, index=np.arange(X_train1.shape[0]), columns=[\"a\"])\n",
    "\n",
    "X_train1 = pd.concat( [ones, X_train1], axis='columns')\n",
    "\n",
    "X_train1 = np.array(X_train1)\n",
    "Y_train1 = np.array(Y_train1).reshape((X_train1.shape[0],1))"
   ]
  },
  {
   "cell_type": "markdown",
   "metadata": {},
   "source": [
    "method to calculate values of theta using gradient descent"
   ]
  },
  {
   "cell_type": "code",
   "execution_count": 14,
   "metadata": {},
   "outputs": [],
   "source": [
    "theta = np.zeros([1,8])\n",
    "alpha = 0.01\n",
    "iters = 1000\n",
    "\n",
    "def grad_desc(X,y,theta,iters,alpha):\n",
    "    for i in range(iters):\n",
    "        theta = theta - (alpha/len(X)) * np.sum(X * ( np.matmul(X , theta.T) - y), axis=0)\n",
    "    return theta\n",
    "\n",
    "g = grad_desc(X_train1,Y_train1,theta,iters,alpha)"
   ]
  },
  {
   "cell_type": "markdown",
   "metadata": {},
   "source": [
    "predict function "
   ]
  },
  {
   "cell_type": "code",
   "execution_count": 15,
   "metadata": {},
   "outputs": [],
   "source": [
    "thetalist = g[0]\n",
    "def predict(X_test):\n",
    "    y_pred= list()\n",
    "    for index,row in X_test.iterrows():\n",
    "        row=list(row)\n",
    "        y1=0\n",
    "        for i in range(1,8):\n",
    "            y1=y1+thetalist[i]*row[i-1]\n",
    "        y1=y1+thetalist[0]\n",
    "        y_pred.append(y1)\n",
    "    return y_pred\n",
    "y_pred_mymodel = predict(X_test)"
   ]
  },
  {
   "cell_type": "raw",
   "metadata": {},
   "source": [
    "y_pred_mymodel"
   ]
  },
  {
   "cell_type": "code",
   "execution_count": 16,
   "metadata": {},
   "outputs": [
    {
     "data": {
      "text/plain": [
       "0.8297163446661396"
      ]
     },
     "execution_count": 16,
     "metadata": {},
     "output_type": "execute_result"
    }
   ],
   "source": [
    "r2_score(list(Y_test),y_pred_mymodel)"
   ]
  },
  {
   "cell_type": "markdown",
   "metadata": {},
   "source": [
    "inbuilt sckit-learn Linear Regression."
   ]
  },
  {
   "cell_type": "code",
   "execution_count": 17,
   "metadata": {},
   "outputs": [],
   "source": [
    "from sklearn.linear_model import LinearRegression\n",
    "regressor=LinearRegression()\n",
    "regressor.fit(X_train,Y_train)\n",
    "y_pred_system = regressor.predict(X_test) "
   ]
  },
  {
   "cell_type": "markdown",
   "metadata": {},
   "source": [
    "printing theta for both lists."
   ]
  },
  {
   "cell_type": "code",
   "execution_count": 18,
   "metadata": {
    "scrolled": true
   },
   "outputs": [
    {
     "name": "stdout",
     "output_type": "stream",
     "text": [
      "[0.7210859240018762, 0.024419475270278452, 0.015977355689433058, 0.008842828480061241, -0.004323731521171846, 0.016091628148957378, 0.07173603650504357, 0.01235774814453219]\n",
      "[ 0.72082204  0.02965486  0.01854654  0.00837296 -0.0015426   0.01670406\n",
      "  0.06179802  0.0121007 ]\n"
     ]
    }
   ],
   "source": [
    "print [regressor.intercept_ ] + list(regressor.coef_ )\n",
    "print(thetalist)"
   ]
  },
  {
   "cell_type": "raw",
   "metadata": {},
   "source": [
    "print y_pred_system"
   ]
  },
  {
   "cell_type": "code",
   "execution_count": 19,
   "metadata": {},
   "outputs": [
    {
     "name": "stdout",
     "output_type": "stream",
     "text": [
      "0.8279764090161481\n"
     ]
    }
   ],
   "source": [
    "print r2_score(Y_test,y_pred_system)"
   ]
  },
  {
   "cell_type": "raw",
   "metadata": {
    "collapsed": true
   },
   "source": [
    "test_file = sys.argv[1]\n",
    "df_test = pd.read_csv(test_file)\n",
    "test_pred = predict( df_test )\n",
    "print test_pred"
   ]
  }
 ],
 "metadata": {
  "kernelspec": {
   "display_name": "Python 2",
   "language": "python",
   "name": "python2"
  },
  "language_info": {
   "codemirror_mode": {
    "name": "ipython",
    "version": 2
   },
   "file_extension": ".py",
   "mimetype": "text/x-python",
   "name": "python",
   "nbconvert_exporter": "python",
   "pygments_lexer": "ipython2",
   "version": "2.7.15rc1"
  }
 },
 "nbformat": 4,
 "nbformat_minor": 2
}
