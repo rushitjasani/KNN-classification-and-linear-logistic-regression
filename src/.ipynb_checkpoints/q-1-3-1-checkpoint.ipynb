{
 "cells": [
  {
   "cell_type": "markdown",
   "metadata": {},
   "source": [
    "### Q-1-3-1\n",
    "\n",
    "Implement a model using linear regression to predict the probablity of getting the admit."
   ]
  },
  {
   "cell_type": "code",
   "execution_count": 1,
   "metadata": {},
   "outputs": [],
   "source": [
    "import pandas as pd\n",
    "import numpy as np\n",
    "from sklearn import preprocessing\n",
    "from sklearn.model_selection import train_test_split\n",
    "from sklearn.metrics import r2_score"
   ]
  },
  {
   "cell_type": "markdown",
   "metadata": {},
   "source": [
    "loading data from csv to dataframe"
   ]
  },
  {
   "cell_type": "code",
   "execution_count": 2,
   "metadata": {},
   "outputs": [],
   "source": [
    "df = pd.read_csv(\"../input_data/AdmissionDataset/data.csv\")\n",
    "X  = df.drop(['Serial No.', 'Chance of Admit '],axis='columns')\n",
    "Y  = df['Chance of Admit ']\n",
    "X = (X - X.mean())/X.std()\n",
    "# X  = pd.DataFrame( preprocessing.scale(X), columns = [ i for i in X ])\n",
    "# X  = pd.concat([  X, df['Research'] ], axis='columns')\n",
    "# X.head()"
   ]
  },
  {
   "cell_type": "markdown",
   "metadata": {},
   "source": [
    "append column of ONES at 0th index. "
   ]
  },
  {
   "cell_type": "code",
   "execution_count": 3,
   "metadata": {},
   "outputs": [],
   "source": [
    "X_train, X_test, Y_train, Y_test = train_test_split(X, Y, test_size=0.2)\n",
    "\n",
    "X_train1 = X_train.reset_index(drop=True)\n",
    "Y_train1 = Y_train.reset_index(drop=True)\n",
    "\n",
    "ones = pd.DataFrame(1, index=np.arange(X_train1.shape[0]), columns=[\"a\"])\n",
    "\n",
    "X_train1 = pd.concat( [ones, X_train1], axis='columns')\n",
    "\n",
    "X_train1 = np.array(X_train1)\n",
    "Y_train1 = np.array(Y_train1).reshape((X_train1.shape[0],1))"
   ]
  },
  {
   "cell_type": "markdown",
   "metadata": {},
   "source": [
    "method to calculate values of theta using gradient descent"
   ]
  },
  {
   "cell_type": "code",
   "execution_count": 4,
   "metadata": {},
   "outputs": [],
   "source": [
    "theta = np.zeros([1,8])\n",
    "alpha = 0.01\n",
    "iters = 1000\n",
    "\n",
    "def grad_desc(X,y,theta,iters,alpha):\n",
    "    for i in range(iters):\n",
    "        theta = theta - (alpha/len(X)) * np.sum(X * ( np.matmul(X , theta.T) - y), axis=0)\n",
    "    return theta\n",
    "\n",
    "g = grad_desc(X_train1,Y_train1,theta,iters,alpha)"
   ]
  },
  {
   "cell_type": "markdown",
   "metadata": {},
   "source": [
    "predict function "
   ]
  },
  {
   "cell_type": "code",
   "execution_count": 5,
   "metadata": {},
   "outputs": [],
   "source": [
    "thetalist = g[0]\n",
    "def predict(X_test):\n",
    "    y_pred= list()\n",
    "    for index,row in X_test.iterrows():\n",
    "        row=list(row)\n",
    "        y1=0\n",
    "        for i in range(1,8):\n",
    "            y1=y1+thetalist[i]*row[i-1]\n",
    "        y1=y1+thetalist[0]\n",
    "        y_pred.append(y1)\n",
    "    return y_pred\n",
    "y_pred_mymodel = predict(X_test)"
   ]
  },
  {
   "cell_type": "raw",
   "metadata": {},
   "source": [
    "y_pred_mymodel"
   ]
  },
  {
   "cell_type": "code",
   "execution_count": 6,
   "metadata": {},
   "outputs": [
    {
     "data": {
      "text/plain": [
       "0.7914024795339434"
      ]
     },
     "execution_count": 6,
     "metadata": {},
     "output_type": "execute_result"
    }
   ],
   "source": [
    "r2_score(list(Y_test),y_pred_mymodel)"
   ]
  },
  {
   "cell_type": "markdown",
   "metadata": {},
   "source": [
    "inbuilt sckit-learn Linear Regression."
   ]
  },
  {
   "cell_type": "code",
   "execution_count": 7,
   "metadata": {},
   "outputs": [],
   "source": [
    "from sklearn.linear_model import LinearRegression\n",
    "regressor=LinearRegression()\n",
    "regressor.fit(X_train,Y_train)\n",
    "y_pred_system = regressor.predict(X_test) "
   ]
  },
  {
   "cell_type": "markdown",
   "metadata": {},
   "source": [
    "printing theta for both lists."
   ]
  },
  {
   "cell_type": "code",
   "execution_count": 8,
   "metadata": {
    "scrolled": true
   },
   "outputs": [
    {
     "name": "stdout",
     "output_type": "stream",
     "text": [
      "[0.7211944645178046, 0.015047818099905812, 0.015761423497746056, 0.0104538446033332, 0.0020419306455751705, 0.012143356630390676, 0.0743530538415656, 0.018257546275134772]\n",
      "[0.72107111 0.02056963 0.01785459 0.0104442  0.00335437 0.01364747\n",
      " 0.06505238 0.01755877]\n"
     ]
    }
   ],
   "source": [
    "print [regressor.intercept_ ] + list(regressor.coef_ )\n",
    "print(thetalist)"
   ]
  },
  {
   "cell_type": "raw",
   "metadata": {},
   "source": [
    "print y_pred_system"
   ]
  },
  {
   "cell_type": "code",
   "execution_count": 1,
   "metadata": {},
   "outputs": [
    {
     "ename": "NameError",
     "evalue": "name 'r2_score' is not defined",
     "output_type": "error",
     "traceback": [
      "\u001b[0;31m---------------------------------------------------------------------------\u001b[0m",
      "\u001b[0;31mNameError\u001b[0m                                 Traceback (most recent call last)",
      "\u001b[0;32m<ipython-input-1-697df351b6a8>\u001b[0m in \u001b[0;36m<module>\u001b[0;34m()\u001b[0m\n\u001b[0;32m----> 1\u001b[0;31m \u001b[0;32mprint\u001b[0m \u001b[0mr2_score\u001b[0m\u001b[0;34m(\u001b[0m\u001b[0mY_test\u001b[0m\u001b[0;34m,\u001b[0m\u001b[0my_pred_system\u001b[0m\u001b[0;34m)\u001b[0m\u001b[0;34m\u001b[0m\u001b[0m\n\u001b[0m",
      "\u001b[0;31mNameError\u001b[0m: name 'r2_score' is not defined"
     ]
    }
   ],
   "source": [
    "print r2_score(Y_test,y_pred_system)"
   ]
  },
  {
   "cell_type": "code",
   "execution_count": null,
   "metadata": {},
   "outputs": [],
   "source": [
    "test_file = sys.argv[1]\n",
    "df_test = pd.read_csv(test_file)\n",
    "test_pred = predict( df_test )\n",
    "print test_pred"
   ]
  }
 ],
 "metadata": {
  "kernelspec": {
   "display_name": "Python 2",
   "language": "python",
   "name": "python2"
  },
  "language_info": {
   "codemirror_mode": {
    "name": "ipython",
    "version": 2
   },
   "file_extension": ".py",
   "mimetype": "text/x-python",
   "name": "python",
   "nbconvert_exporter": "python",
   "pygments_lexer": "ipython2",
   "version": "2.7.15rc1"
  }
 },
 "nbformat": 4,
 "nbformat_minor": 2
}
