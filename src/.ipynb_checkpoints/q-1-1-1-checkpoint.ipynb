{
 "cells": [
  {
   "cell_type": "markdown",
   "metadata": {},
   "source": [
    "## Q-1-1-1 \n",
    "\n",
    "Implement a KNN classifier for each of the datasets. Report precision, recall, f1 score and accuracy. Compare your result with in-built(scikit-learn) KNN function to check correctness of your algorithm."
   ]
  },
  {
   "cell_type": "code",
   "execution_count": 1,
   "metadata": {},
   "outputs": [],
   "source": [
    "import pandas as pd\n",
    "import numpy as np\n",
    "from sklearn import preprocessing\n",
    "from sklearn.model_selection import train_test_split\n",
    "from sklearn.metrics import classification_report, confusion_matrix, accuracy_score\n",
    "from sklearn.neighbors import KNeighborsClassifier\n",
    "import operator\n",
    "import sys"
   ]
  },
  {
   "cell_type": "markdown",
   "metadata": {},
   "source": [
    "loading dataset according to filenames."
   ]
  },
  {
   "cell_type": "code",
   "execution_count": 2,
   "metadata": {},
   "outputs": [],
   "source": [
    "FLAG = sys.argv[1]\n",
    "filename = sys.argv[2]\n",
    "FLAG = \"iris\"\n",
    "def loadfile(FLAG):\n",
    "    if FLAG==\"iris\":\n",
    "        filename = '../input_data/Iris/Iris.csv'\n",
    "        df = pd.read_csv(filename, names = [\"a\", \"b\", \"c\", \"d\", \"Y\"])\n",
    "    elif FLAG==\"robot1\":\n",
    "        filename = '../input_data/RobotDataset/Robot1'\n",
    "        df = pd.read_csv(filename, delim_whitespace=True, names = [\"Y\", \"a\", \"b\", \"c\", \"d\", \"e\", \"f\", \"g\"])\n",
    "        df = df.drop(['g'],axis=1)\n",
    "    else:\n",
    "        filename = '../input_data/RobotDataset/Robot2'\n",
    "        df = pd.read_csv(filename, delim_whitespace=True, names = [\"Y\", \"a\", \"b\", \"c\", \"d\", \"e\", \"f\", \"g\"])\n",
    "        df = df.drop(['g'],axis=1)\n",
    "    return df\n",
    "\n",
    "df = loadfile(FLAG)"
   ]
  },
  {
   "cell_type": "markdown",
   "metadata": {},
   "source": [
    "making dataframe and splitting data in train-test"
   ]
  },
  {
   "cell_type": "code",
   "execution_count": 3,
   "metadata": {},
   "outputs": [],
   "source": [
    "Y = df.Y\n",
    "X = df.drop(['Y'],axis='columns')\n",
    "\n",
    "if FLAG != \"iris\":\n",
    "    X = pd.DataFrame( preprocessing.normalize(X), columns = [ \"a\", \"b\", \"c\", \"d\", \"e\", \"f\" ]  )\n",
    "\n",
    "X_train, X_test, Y_train, Y_test = train_test_split(X, Y,test_size=0.2)\n",
    "labels = Y.unique()\n",
    "df1 = pd.concat([X_train, Y_train],axis='columns').reset_index(drop=True)"
   ]
  },
  {
   "cell_type": "markdown",
   "metadata": {},
   "source": [
    "inbuilt scikit-learn KNN classifier"
   ]
  },
  {
   "cell_type": "code",
   "execution_count": 4,
   "metadata": {},
   "outputs": [
    {
     "name": "stdout",
     "output_type": "stream",
     "text": [
      "[[ 8  0  0]\n",
      " [ 0  5  1]\n",
      " [ 0  1 12]]\n",
      "                 precision    recall  f1-score   support\n",
      "\n",
      "    Iris-setosa       1.00      1.00      1.00         8\n",
      "Iris-versicolor       0.83      0.83      0.83         6\n",
      " Iris-virginica       0.92      0.92      0.92        13\n",
      "\n",
      "      micro avg       0.93      0.93      0.93        27\n",
      "      macro avg       0.92      0.92      0.92        27\n",
      "   weighted avg       0.93      0.93      0.93        27\n",
      "\n",
      "0.9259259259259259\n"
     ]
    }
   ],
   "source": [
    "knn_sys = KNeighborsClassifier(n_neighbors=5)\n",
    "knn_sys.fit(X_train, Y_train)\n",
    "Y_predict = knn_sys.predict(X_test)\n",
    "print confusion_matrix(Y_test,Y_predict)\n",
    "print classification_report(Y_test,Y_predict)\n",
    "print accuracy_score(Y_test, Y_predict)"
   ]
  },
  {
   "cell_type": "raw",
   "metadata": {},
   "source": [
    "%matplotlib inline\n",
    "\n",
    "ax = df[df['Y'] == \"Iris-setosa\" ].plot.scatter(x = 'd', y='c', c='blue', label='Iris-setosa')\n",
    "ax = df[df['Y'] == \"Iris-virginica\"].plot.scatter(x = 'd', y='c', c='orange', label='Iris-virginica', ax=ax)\n",
    "ax = df[df['Y'] == \"Iris-versicolor\"].plot.scatter(x = 'd', y='c', c='red', label='Iris-versicolor', ax=ax)\n",
    "ax"
   ]
  },
  {
   "cell_type": "markdown",
   "metadata": {},
   "source": [
    "Function which calculate Euclidean Distance"
   ]
  },
  {
   "cell_type": "code",
   "execution_count": 5,
   "metadata": {},
   "outputs": [],
   "source": [
    "def euclidean_distance(x, y):   \n",
    "    return np.sqrt(np.sum((x - y) ** 2))"
   ]
  },
  {
   "cell_type": "markdown",
   "metadata": {},
   "source": [
    "actual KNN algorithm which predict class label from training data and K neighbours"
   ]
  },
  {
   "cell_type": "code",
   "execution_count": 6,
   "metadata": {},
   "outputs": [
    {
     "name": "stdout",
     "output_type": "stream",
     "text": [
      "[[ 8  0  0]\n",
      " [ 0  5  1]\n",
      " [ 0  1 12]]\n",
      "                 precision    recall  f1-score   support\n",
      "\n",
      "    Iris-setosa       1.00      1.00      1.00         8\n",
      "Iris-versicolor       0.83      0.83      0.83         6\n",
      " Iris-virginica       0.92      0.92      0.92        13\n",
      "\n",
      "      micro avg       0.93      0.93      0.93        27\n",
      "      macro avg       0.92      0.92      0.92        27\n",
      "   weighted avg       0.93      0.93      0.93        27\n",
      "\n",
      "0.9259259259259259\n"
     ]
    }
   ],
   "source": [
    "def predict( df, k=5 ):\n",
    "    Y_predict = []\n",
    "    for index, row in X_test.iterrows():\n",
    "        distance = {}\n",
    "        labeldict = {i:0 for i in labels}\n",
    "        for index1, row1 in df1.iterrows():\n",
    "            distance[index1] = euclidean_distance(row,row1)\n",
    "        \n",
    "        ordered_dict = sorted(distance.items(), key=operator.itemgetter(1))\n",
    "        \n",
    "        count = k\n",
    "        for index,_ in ordered_dict:\n",
    "            count-=1\n",
    "            labeldict[df1.iloc[index].Y]+=1\n",
    "            if count==0:\n",
    "                break\n",
    "                \n",
    "        ans_label=0\n",
    "        ans_count=-1\n",
    "        \n",
    "        for label,cnt in labeldict.iteritems():\n",
    "            if cnt>=ans_count:\n",
    "                ans_label=label\n",
    "                ans_count=cnt\n",
    "        Y_predict.append(ans_label)\n",
    "    return Y_predict\n",
    "\n",
    "p = predict(X_test,5)\n",
    "# print p\n",
    "print confusion_matrix(Y_test,p)\n",
    "print classification_report(Y_test,p)\n",
    "print accuracy_score(Y_test,p)"
   ]
  },
  {
   "cell_type": "raw",
   "metadata": {},
   "source": [
    "def test(FLAG, k):\n",
    "    global filename\n",
    "    if FLAG==\"iris\":\n",
    "        df = pd.read_csv(filename, names = [\"a\", \"b\", \"c\", \"d\"])\n",
    "    elif FLAG==\"robot1\":\n",
    "        df = pd.read_csv(filename, delim_whitespace=True, names = [ \"a\", \"b\", \"c\", \"d\", \"e\", \"f\", \"g\"])\n",
    "    else:\n",
    "        df = pd.read_csv(filename, delim_whitespace=True, names = [ \"a\", \"b\", \"c\", \"d\", \"e\", \"f\", \"g\"])\n",
    "        df = df.drop(['g'],axis=1)\n",
    "    return predict(df, k)\n",
    "pred_test = test(FLAG, k = 5)\n",
    "print pred_test\n"
   ]
  },
  {
   "cell_type": "code",
   "execution_count": null,
   "metadata": {},
   "outputs": [],
   "source": []
  }
 ],
 "metadata": {
  "kernelspec": {
   "display_name": "Python 2",
   "language": "python",
   "name": "python2"
  },
  "language_info": {
   "codemirror_mode": {
    "name": "ipython",
    "version": 2
   },
   "file_extension": ".py",
   "mimetype": "text/x-python",
   "name": "python",
   "nbconvert_exporter": "python",
   "pygments_lexer": "ipython2",
   "version": "2.7.15rc1"
  }
 },
 "nbformat": 4,
 "nbformat_minor": 2
}
