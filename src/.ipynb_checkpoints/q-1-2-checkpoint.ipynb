{
 "cells": [
  {
   "cell_type": "markdown",
   "metadata": {},
   "source": [
    "## q-1-2\n",
    "\n",
    "A bank is implementing a system to identify potential customers who have higher probablity of availing loans to increase its profit. Implement Naive Bayes classifier on this dataset to help bank achieve its goal. Report your observations and accuracy of the model."
   ]
  },
  {
   "cell_type": "code",
   "execution_count": 1,
   "metadata": {},
   "outputs": [],
   "source": [
    "import pandas as pd\n",
    "import numpy as np\n",
    "import math\n",
    "from sklearn import preprocessing\n",
    "from sklearn.model_selection import train_test_split\n",
    "from sklearn.metrics import accuracy_score, confusion_matrix, classification_report\n",
    "from sklearn.naive_bayes import GaussianNB\n",
    "import sys"
   ]
  },
  {
   "cell_type": "markdown",
   "metadata": {},
   "source": [
    "loading dataset and split in train and test."
   ]
  },
  {
   "cell_type": "code",
   "execution_count": 2,
   "metadata": {},
   "outputs": [],
   "source": [
    "df = pd.read_csv(\"../input_data/LoanDataset/data.csv\", names = [\"a\", \"b\", \"c\", \"d\", \"e\", \"f\", \"g\", \"h\", \"i\", \"Y\", \"k\", \"l\", \"m\", \"n\"])\n",
    "df = df.drop([0])"
   ]
  },
  {
   "cell_type": "code",
   "execution_count": 3,
   "metadata": {},
   "outputs": [],
   "source": [
    "Y = df.Y\n",
    "X = df.drop(['Y'], axis=\"columns\")\n",
    "labels = Y.unique()"
   ]
  },
  {
   "cell_type": "code",
   "execution_count": 4,
   "metadata": {},
   "outputs": [],
   "source": [
    "X_train, X_test, Y_train, Y_test = train_test_split(X, Y,test_size=0.2)\n",
    "df1 = pd.concat([X_train, Y_train],axis=1).reset_index(drop=True)"
   ]
  },
  {
   "cell_type": "markdown",
   "metadata": {},
   "source": [
    "inbuilt scikit-learn NaiveBayes classifier"
   ]
  },
  {
   "cell_type": "code",
   "execution_count": 5,
   "metadata": {},
   "outputs": [
    {
     "name": "stdout",
     "output_type": "stream",
     "text": [
      "[[720  80]\n",
      " [ 42  58]]\n",
      "              precision    recall  f1-score   support\n",
      "\n",
      "         0.0       0.94      0.90      0.92       800\n",
      "         1.0       0.42      0.58      0.49       100\n",
      "\n",
      "   micro avg       0.86      0.86      0.86       900\n",
      "   macro avg       0.68      0.74      0.70       900\n",
      "weighted avg       0.89      0.86      0.87       900\n",
      "\n",
      "0.8644444444444445\n"
     ]
    }
   ],
   "source": [
    "gauss_naive_bayes = GaussianNB()\n",
    "gauss_naive_bayes.fit(X_train, Y_train)\n",
    "Y_predict = gauss_naive_bayes.predict(X_test)\n",
    "\n",
    "print confusion_matrix(Y_test,Y_predict)\n",
    "print classification_report(Y_test,Y_predict)\n",
    "print accuracy_score(Y_test,Y_predict)"
   ]
  },
  {
   "cell_type": "markdown",
   "metadata": {},
   "source": [
    "splitting data according to class label and storing their mean and median respectively"
   ]
  },
  {
   "cell_type": "code",
   "execution_count": 6,
   "metadata": {},
   "outputs": [],
   "source": [
    "df_one = df1[df1.Y==1].reset_index(drop=True)\n",
    "df_zero = df1[df1.Y==0].reset_index(drop=True)\n",
    "\n",
    "df_zero_summary = df_zero.describe().drop(['Y'],axis=\"columns\")\n",
    "df_one_summary = df_one.describe().drop(['Y'],axis=\"columns\")"
   ]
  },
  {
   "cell_type": "markdown",
   "metadata": {},
   "source": [
    "calculate probability from mean and std-dev (Gaussian dist)"
   ]
  },
  {
   "cell_type": "code",
   "execution_count": 7,
   "metadata": {},
   "outputs": [],
   "source": [
    "def calc_gauss_prob(x, mean, std_dev):\n",
    "    exponent = math.exp(-(math.pow(x - mean,2)/(2*math.pow(std_dev,2))))\n",
    "    return (1 / (math.sqrt(2*math.pi) * std_dev)) * exponent"
   ]
  },
  {
   "cell_type": "markdown",
   "metadata": {},
   "source": [
    "method to predict class label."
   ]
  },
  {
   "cell_type": "code",
   "execution_count": 8,
   "metadata": {},
   "outputs": [],
   "source": [
    "def predict(sum_zero, sum_one, row):\n",
    "    probabilities = {0:1, 1:1}\n",
    "    cnt=0\n",
    "    for col in sum_zero:\n",
    "        x = row[cnt]\n",
    "        cnt+=1\n",
    "        probabilities[0] *= calc_gauss_prob(x, sum_zero[col]['mean'], sum_zero[col]['std'])\n",
    "        \n",
    "    cnt=0\n",
    "    for col in sum_one:\n",
    "        x = row[cnt]\n",
    "        cnt+=1\n",
    "        probabilities[1] *= calc_gauss_prob(x, sum_one[col]['mean'], sum_one[col]['std'])\n",
    "        \n",
    "    bestLabel = 0 if probabilities[0] > probabilities[1] else 1\n",
    "    return bestLabel"
   ]
  },
  {
   "cell_type": "markdown",
   "metadata": {},
   "source": [
    "method to find prediction for whole test data"
   ]
  },
  {
   "cell_type": "code",
   "execution_count": 9,
   "metadata": {},
   "outputs": [],
   "source": [
    "def getPredictions(sum0, sum1, X_test):\n",
    "    predictions = []\n",
    "    for i in range(len(X_test)):\n",
    "        result = predict(sum0, sum1, X_test.iloc[i])\n",
    "        predictions.append(result)\n",
    "    return predictions"
   ]
  },
  {
   "cell_type": "markdown",
   "metadata": {},
   "source": [
    "printing accuracy and confusion matrix and classification report."
   ]
  },
  {
   "cell_type": "code",
   "execution_count": 10,
   "metadata": {},
   "outputs": [
    {
     "name": "stdout",
     "output_type": "stream",
     "text": [
      "[[689 111]\n",
      " [ 23  77]]\n",
      "              precision    recall  f1-score   support\n",
      "\n",
      "         0.0       0.97      0.86      0.91       800\n",
      "         1.0       0.41      0.77      0.53       100\n",
      "\n",
      "   micro avg       0.85      0.85      0.85       900\n",
      "   macro avg       0.69      0.82      0.72       900\n",
      "weighted avg       0.91      0.85      0.87       900\n",
      "\n",
      "0.8511111111111112\n"
     ]
    }
   ],
   "source": [
    "Y_pred = getPredictions(df_zero_summary, df_one_summary, X_test)\n",
    "print confusion_matrix(Y_test,Y_pred)\n",
    "print classification_report(Y_test,Y_pred)\n",
    "print accuracy_score(Y_test,Y_pred)"
   ]
  },
  {
   "cell_type": "raw",
   "metadata": {},
   "source": [
    "test_file = sys.argv[1]\n",
    "df_test = pd.read_csv(test_file, names = [\"a\", \"b\", \"c\", \"d\", \"e\", \"f\", \"g\", \"h\", \"i\", \"k\", \"l\", \"m\", \"n\"])\n",
    "Pred_val = getPredictions(df_zero_summary, df_one_summary, df_test)\n",
    "print Pred_val"
   ]
  },
  {
   "cell_type": "markdown",
   "metadata": {},
   "source": [
    "### Observation"
   ]
  },
  {
   "cell_type": "markdown",
   "metadata": {},
   "source": [
    "* Very simple, easy to implement and fast.\n",
    "* Need less training data\n",
    "* Can be used for both binary and mult-iclass classification problems.\n",
    "* Handles continuous and discrete data.\n",
    "* disadvantage is that it can’t learn interactions between features (e.g., it can’t learn that although you love movies with Brad Pitt and Tom Cruise, you hate movies where they’re together)."
   ]
  },
  {
   "cell_type": "code",
   "execution_count": null,
   "metadata": {},
   "outputs": [],
   "source": []
  }
 ],
 "metadata": {
  "kernelspec": {
   "display_name": "Python 2",
   "language": "python",
   "name": "python2"
  },
  "language_info": {
   "codemirror_mode": {
    "name": "ipython",
    "version": 2
   },
   "file_extension": ".py",
   "mimetype": "text/x-python",
   "name": "python",
   "nbconvert_exporter": "python",
   "pygments_lexer": "ipython2",
   "version": "2.7.15rc1"
  }
 },
 "nbformat": 4,
 "nbformat_minor": 2
}
